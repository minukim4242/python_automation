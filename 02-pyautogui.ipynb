{
 "cells": [
  {
   "attachments": {},
   "cell_type": "markdown",
   "metadata": {},
   "source": [
    "### pyautogui를 활용한 마우스 컨트롤"
   ]
  },
  {
   "attachments": {},
   "cell_type": "markdown",
   "metadata": {},
   "source": [
    "~~~python\n",
    "# 라이브러리를 가져왔기 때문에 반드시 사용 선언을 해주어야합니다.\n",
    "import pyautogui\n",
    "\n",
    "# 메인 모니터의 해상도 가져오기\n",
    "screen_width, screen_height = pyautogui.size()\n",
    "print(screen_width, screen_height)\n",
    "~~~"
   ]
  },
  {
   "cell_type": "code",
   "execution_count": null,
   "metadata": {},
   "outputs": [],
   "source": [
    "#Practice here!\n"
   ]
  },
  {
   "attachments": {},
   "cell_type": "markdown",
   "metadata": {},
   "source": [
    "~~~python\n",
    "# 현재 마우스의 XY 좌표 가져오기\n",
    "x, y = pyautogui.position()\n",
    "print(x, y)\n",
    "~~~"
   ]
  },
  {
   "cell_type": "code",
   "execution_count": null,
   "metadata": {},
   "outputs": [],
   "source": [
    "#Practice here!\n"
   ]
  },
  {
   "attachments": {},
   "cell_type": "markdown",
   "metadata": {},
   "source": [
    "~~~python\n",
    "# 마우스 커서를 x, y 좌표로 이동, 이동만 하고 클릭은 하지 않음\n",
    "pyautogui.moveTo(10, 10)\n",
    "~~~"
   ]
  },
  {
   "cell_type": "code",
   "execution_count": null,
   "metadata": {},
   "outputs": [],
   "source": [
    "#Practice here!\n"
   ]
  },
  {
   "attachments": {},
   "cell_type": "markdown",
   "metadata": {},
   "source": [
    "~~~python\n",
    "# 마우스 커서를 x, y 좌표로 2초간 이동, 마찬가지로 이동만 하고 클릭은 하지 않음\n",
    "pyautogui.moveTo(10, 10, 2)\n",
    "~~~"
   ]
  },
  {
   "cell_type": "code",
   "execution_count": null,
   "metadata": {},
   "outputs": [],
   "source": [
    "#Practice here!\n"
   ]
  },
  {
   "attachments": {},
   "cell_type": "markdown",
   "metadata": {},
   "source": [
    "~~~python\n",
    "# 현재 위치에서 10, 10 위치로 0.5초에 걸쳐서 드래그 하면서 마우스 커서 이동\n",
    "pyautogui.dragTo(10, 10, duration=0.5)\n",
    "~~~"
   ]
  },
  {
   "cell_type": "code",
   "execution_count": null,
   "metadata": {},
   "outputs": [],
   "source": [
    "#Practice here!\n"
   ]
  },
  {
   "attachments": {},
   "cell_type": "markdown",
   "metadata": {},
   "source": [
    "~~~python\n",
    "# 특정 위치로 이동 후, 버튼 클릭하기1 - 좌클릭\n",
    "pyautogui.moveTo(88, 21)\n",
    "# 디폴트는 좌클릭\n",
    "pyautogui.click()\n",
    "~~~"
   ]
  },
  {
   "cell_type": "code",
   "execution_count": null,
   "metadata": {},
   "outputs": [],
   "source": [
    "#Practice here!\n"
   ]
  },
  {
   "attachments": {},
   "cell_type": "markdown",
   "metadata": {},
   "source": [
    "~~~python\n",
    "# 특정 위치로 이동 후, 버튼 클릭하기1 - 우클릭\n",
    "pyautogui.moveTo(88, 21)\n",
    "# 우클릭은 rightClick()을 사용해야함\n",
    "pyautogui.rightClick()\n",
    "\n",
    "- middleClick(): 스크롤 버튼 클릭\n",
    "- doubleClick(): 더블 클릭\n",
    "~~~\n"
   ]
  },
  {
   "cell_type": "code",
   "execution_count": null,
   "metadata": {},
   "outputs": [],
   "source": [
    "#Practice here!\n"
   ]
  },
  {
   "attachments": {},
   "cell_type": "markdown",
   "metadata": {},
   "source": [
    "~~~python\n",
    "# 특정 위치로 이동 후, 버튼 클릭하기2\n",
    "pyautogui.click(88, 21)\n",
    "~~~"
   ]
  },
  {
   "cell_type": "code",
   "execution_count": null,
   "metadata": {},
   "outputs": [],
   "source": [
    "#Practice here!\n"
   ]
  },
  {
   "attachments": {},
   "cell_type": "markdown",
   "metadata": {},
   "source": [
    "~~~python\n",
    "# 시간과 관련된 라이브러리 추가\n",
    "import time\n",
    "\n",
    "# 마우스 위치 추적을 위한 반복문 사용\n",
    "while(True):\n",
    "    x, y = pyautogui.position()\n",
    "    print(x, y)\n",
    "    time.sleep(1) # 1초간 기다리기\n",
    "~~~\n"
   ]
  },
  {
   "cell_type": "code",
   "execution_count": null,
   "metadata": {},
   "outputs": [],
   "source": [
    "#Practice here!\n"
   ]
  },
  {
   "attachments": {},
   "cell_type": "markdown",
   "metadata": {},
   "source": [
    "~~~python\n",
    "# 빈 리스트 생성\n",
    "temp_list = []\n",
    "\n",
    "# 좌표 저장 저장\n",
    "for i in range(0, 4):\n",
    "    time.sleep(1.5)\n",
    "    x, y = pyautogui.position()\n",
    "    print(x, y, ' 기록 완료')\n",
    "    tmp = [x, y]\n",
    "    temp_list.append(tmp)\n",
    "\n",
    "# 저장된 좌표 출력 및 마우스 좌상단으로 이동\n",
    "print(temp_list)\n",
    "pyautogui.moveTo(20, 20, 1)\n",
    "\n",
    "# 저장한 역순으로 마우스 이동\n",
    "for i in reversed(temp_list):\n",
    "    pyautogui.moveTo(i[0], i[1], 2)\n",
    "    print(i[0], i[1], ' 이동')\n",
    "~~~\n"
   ]
  },
  {
   "cell_type": "code",
   "execution_count": null,
   "metadata": {},
   "outputs": [],
   "source": [
    "#Practice here!\n"
   ]
  },
  {
   "attachments": {},
   "cell_type": "markdown",
   "metadata": {},
   "source": [
    "~~~python\n",
    "# 마우스 스크롤(위로)\n",
    "pyautogui.moveTo(1100, 900, 2)\n",
    "pyautogui.scroll(100)\n",
    "~~~"
   ]
  },
  {
   "cell_type": "code",
   "execution_count": null,
   "metadata": {},
   "outputs": [],
   "source": [
    "#Practice here!\n"
   ]
  },
  {
   "attachments": {},
   "cell_type": "markdown",
   "metadata": {},
   "source": [
    "~~~python\n",
    "# 마우스 스크롤(아래로)\n",
    "pyautogui.moveTo(1100, 900, 2)\n",
    "pyautogui.scroll(-100)\n",
    "~~~"
   ]
  },
  {
   "cell_type": "code",
   "execution_count": null,
   "metadata": {},
   "outputs": [],
   "source": [
    "#Practice here!\n"
   ]
  },
  {
   "attachments": {},
   "cell_type": "markdown",
   "metadata": {},
   "source": [
    "### pyautogui를 활용한 키보드 컨트롤"
   ]
  },
  {
   "attachments": {},
   "cell_type": "markdown",
   "metadata": {},
   "source": [
    "~~~python\n",
    "# 빠르게 입력. 이럴 경우 매크로로 걸릴 수 있음\n",
    "pyautogui.write(\"Hello World!\")\n",
    "~~~"
   ]
  },
  {
   "cell_type": "code",
   "execution_count": null,
   "metadata": {},
   "outputs": [],
   "source": [
    "#Practice here!\n"
   ]
  },
  {
   "attachments": {},
   "cell_type": "markdown",
   "metadata": {},
   "source": [
    "~~~python\n",
    "# 인터벌을 줌\n",
    "pyautogui.write(\"Hello World!\\n\", interval=0.1)\n",
    "pyautogui.write(\"Don't give up, no matter how hard it is.\", interval=0.1)\n",
    "~~~"
   ]
  },
  {
   "cell_type": "code",
   "execution_count": null,
   "metadata": {},
   "outputs": [],
   "source": [
    "#Practice here!\n"
   ]
  },
  {
   "attachments": {},
   "cell_type": "markdown",
   "metadata": {},
   "source": [
    "~~~python\n",
    "# 한글로 해보면 안됩니다. pyautogui는 한글을 지원하지 않음\n",
    "pyautogui.write(\"안녕하세요\\n\", interval=0.1)\n",
    "pyautogui.write(\"절대 포기하지마세요.\", interval=0.1)\n",
    "~~~"
   ]
  },
  {
   "cell_type": "code",
   "execution_count": null,
   "metadata": {},
   "outputs": [],
   "source": [
    "#Practice here!\n"
   ]
  },
  {
   "attachments": {},
   "cell_type": "markdown",
   "metadata": {},
   "source": [
    "~~~python\n",
    "import pyperclip\n",
    "# pyperclip.copy(): 클립보드에 텍스트를 복사합니다.\n",
    "pyperclip.copy('안녕하세요')     \n",
    "pyautogui.hotkey(\"ctrl\", \"v\")\n",
    "~~~"
   ]
  },
  {
   "cell_type": "code",
   "execution_count": null,
   "metadata": {},
   "outputs": [],
   "source": [
    "#Practice here!\n"
   ]
  },
  {
   "attachments": {},
   "cell_type": "markdown",
   "metadata": {},
   "source": [
    "~~~python\n",
    "# press() 특정 키를 눌러주는 함수\n",
    "pyautogui.press('f1')\n",
    "pyautogui.press('printscreen')\n",
    "~~~"
   ]
  },
  {
   "cell_type": "code",
   "execution_count": null,
   "metadata": {},
   "outputs": [],
   "source": [
    "#Practice here!\n"
   ]
  },
  {
   "attachments": {},
   "cell_type": "markdown",
   "metadata": {},
   "source": [
    "~~~python\n",
    "# 여러 키 연속으로 입력하기\n",
    "pyautogui.press(['a', 'a', 'enter'])\n",
    "~~~"
   ]
  },
  {
   "cell_type": "code",
   "execution_count": null,
   "metadata": {},
   "outputs": [],
   "source": [
    "#Practice here!\n"
   ]
  },
  {
   "attachments": {},
   "cell_type": "markdown",
   "metadata": {},
   "source": [
    "~~~python\n",
    "# keyDown()은 특정 키를 누르고 있음\n",
    "# 즉, keyUp()을 통해 풀어줘야함\n",
    "# press()는 이 동작을 연속적으로 해주는 것\n",
    "pyautogui.click(959, 956)\n",
    "pyautogui.keyDown('ctrl')\n",
    "pyautogui.press('a')\n",
    "pyautogui.press('v')\n",
    "pyautogui.keyUp('ctrl')\n",
    "~~~"
   ]
  },
  {
   "cell_type": "code",
   "execution_count": null,
   "metadata": {},
   "outputs": [],
   "source": [
    "#Practice here!\n"
   ]
  },
  {
   "attachments": {},
   "cell_type": "markdown",
   "metadata": {},
   "source": [
    "### 메세지 박스\n"
   ]
  },
  {
   "attachments": {},
   "cell_type": "markdown",
   "metadata": {},
   "source": [
    "~~~python\n",
    "# 프름프트 창을 열어 결과를 저장함\n",
    "# 많이 쓸 일은 없는 기능임\n",
    "# 인풋 기능과 같음\n",
    "prompt = pyautogui.prompt()\n",
    "\n",
    "print(prompt)\n",
    "~~~"
   ]
  },
  {
   "cell_type": "code",
   "execution_count": null,
   "metadata": {},
   "outputs": [],
   "source": [
    "#Practice here!\n"
   ]
  },
  {
   "cell_type": "code",
   "execution_count": null,
   "metadata": {},
   "outputs": [],
   "source": [
    "#Practice here!\n"
   ]
  },
  {
   "attachments": {},
   "cell_type": "markdown",
   "metadata": {},
   "source": [
    "~~~python\n",
    "prompt = pyautogui.prompt(title='제목', default='안녕하세요')\n",
    "\n",
    "print(prompt)\n",
    "~~~"
   ]
  },
  {
   "cell_type": "code",
   "execution_count": null,
   "metadata": {},
   "outputs": [],
   "source": [
    "#Practice here!\n"
   ]
  },
  {
   "cell_type": "code",
   "execution_count": null,
   "metadata": {},
   "outputs": [],
   "source": [
    "#Practice here!\n"
   ]
  },
  {
   "attachments": {},
   "cell_type": "markdown",
   "metadata": {},
   "source": [
    "~~~python\n",
    "prompt = pyautogui.prompt(title='제목', default='안녕하세요', text='이 창에는 인사를 써주셔야합니다.')\n",
    "\n",
    "print(prompt)\n",
    "~~~"
   ]
  },
  {
   "cell_type": "code",
   "execution_count": null,
   "metadata": {},
   "outputs": [],
   "source": [
    "#Practice here!\n"
   ]
  },
  {
   "cell_type": "code",
   "execution_count": null,
   "metadata": {},
   "outputs": [],
   "source": [
    "#Practice here!\n"
   ]
  },
  {
   "attachments": {},
   "cell_type": "markdown",
   "metadata": {},
   "source": [
    "~~~python\n",
    "# 패스워드 입력\n",
    "pw = pyautogui.password(title='제목', default='1111', text='이 창에는 인사를 써주셔야합니다.')\n",
    "\n",
    "# 보안으로는 효용성이 없음\n",
    "# 옆에 있는 사람이 못보게 하는 정도의 용도\n",
    "# 실제로 보안이 이루어지기 위해서는 다양한 암호학적 방법이 사용되어야 합니다\n",
    "print(pw)\n",
    "\n",
    "if pw == '123123':\n",
    "    print('Good')\n",
    "else:\n",
    "    print('Error')\n",
    "\n",
    "print(type(pw))\n",
    "~~~"
   ]
  },
  {
   "cell_type": "code",
   "execution_count": null,
   "metadata": {},
   "outputs": [],
   "source": [
    "#Practice here!\n"
   ]
  },
  {
   "cell_type": "code",
   "execution_count": null,
   "metadata": {},
   "outputs": [],
   "source": [
    "#Practice here!\n"
   ]
  },
  {
   "cell_type": "code",
   "execution_count": null,
   "metadata": {},
   "outputs": [],
   "source": [
    "#Practice here!\n"
   ]
  },
  {
   "cell_type": "code",
   "execution_count": null,
   "metadata": {},
   "outputs": [],
   "source": [
    "#Practice here!\n"
   ]
  },
  {
   "attachments": {},
   "cell_type": "markdown",
   "metadata": {},
   "source": [
    "~~~python\n",
    "# 경고창\n",
    "alert = pyautogui.alert('경고입니다.')\n",
    "\n",
    "print(alert)\n",
    "~~~"
   ]
  },
  {
   "cell_type": "code",
   "execution_count": null,
   "metadata": {},
   "outputs": [],
   "source": [
    "#Practice here!\n"
   ]
  },
  {
   "cell_type": "code",
   "execution_count": null,
   "metadata": {},
   "outputs": [],
   "source": [
    "#Practice here!\n"
   ]
  },
  {
   "attachments": {},
   "cell_type": "markdown",
   "metadata": {},
   "source": [
    "~~~python\n",
    "alert = pyautogui.alert(button='asdasd', text='경고입니다.', title='경고창')\n",
    "\n",
    "print(alert)\n",
    "~~~"
   ]
  },
  {
   "cell_type": "code",
   "execution_count": null,
   "metadata": {},
   "outputs": [],
   "source": [
    "#Practice here!\n"
   ]
  },
  {
   "cell_type": "code",
   "execution_count": null,
   "metadata": {},
   "outputs": [],
   "source": [
    "#Practice here!\n"
   ]
  },
  {
   "attachments": {},
   "cell_type": "markdown",
   "metadata": {},
   "source": [
    "~~~python\n",
    "cf = pyautogui.confirm()\n",
    "\n",
    "print(cf)\n",
    "~~~"
   ]
  },
  {
   "cell_type": "code",
   "execution_count": null,
   "metadata": {},
   "outputs": [],
   "source": [
    "#Practice here!\n"
   ]
  },
  {
   "cell_type": "code",
   "execution_count": null,
   "metadata": {},
   "outputs": [],
   "source": [
    "#Practice here!\n"
   ]
  },
  {
   "attachments": {},
   "cell_type": "markdown",
   "metadata": {},
   "source": [
    "~~~python\n",
    "cf = pyautogui.confirm(text='', title='', buttons=['OK', 'Cancel'])\n",
    "\n",
    "print(cf)\n",
    "~~~"
   ]
  },
  {
   "cell_type": "code",
   "execution_count": null,
   "metadata": {},
   "outputs": [],
   "source": [
    "#Practice here!\n"
   ]
  },
  {
   "cell_type": "code",
   "execution_count": null,
   "metadata": {},
   "outputs": [],
   "source": [
    "#Practice here!\n"
   ]
  },
  {
   "attachments": {},
   "cell_type": "markdown",
   "metadata": {},
   "source": [
    "~~~python\n",
    "cf = pyautogui.confirm(text='안내 사항을 적습니다', title='확인', buttons=['OK', 'Cancel', 'Done'])\n",
    "\n",
    "print(cf)\n",
    "~~~"
   ]
  },
  {
   "cell_type": "code",
   "execution_count": null,
   "metadata": {},
   "outputs": [],
   "source": [
    "#Practice here!\n"
   ]
  },
  {
   "cell_type": "code",
   "execution_count": null,
   "metadata": {},
   "outputs": [],
   "source": [
    "#Practice here!\n"
   ]
  },
  {
   "attachments": {},
   "cell_type": "markdown",
   "metadata": {},
   "source": [
    "### 스크린샷 기능"
   ]
  },
  {
   "attachments": {},
   "cell_type": "markdown",
   "metadata": {},
   "source": [
    "~~~python\n",
    "# 스크린샷 찍기\n",
    "pyautogui.screenshot('1.png', region=(705, 615, 30, 30))\n",
    "pyautogui.screenshot('2.png', region=(705, 615, 30, 30))\n",
    "pyautogui.screenshot('3.png', region=(705, 615, 30, 30))\n",
    "~~~"
   ]
  },
  {
   "cell_type": "code",
   "execution_count": null,
   "metadata": {},
   "outputs": [],
   "source": [
    "#Practice here!\n"
   ]
  },
  {
   "attachments": {},
   "cell_type": "markdown",
   "metadata": {},
   "source": [
    "~~~python\n",
    "# 마우스 위치 받아서 출력하기\n",
    "while(True):\n",
    "    x, y = pyautogui.position()\n",
    "    print(x, y)\n",
    "    time.sleep(1) # 1초간 기다리기\n",
    "~~~"
   ]
  },
  {
   "cell_type": "code",
   "execution_count": null,
   "metadata": {},
   "outputs": [],
   "source": [
    "#Practice here!\n"
   ]
  },
  {
   "attachments": {},
   "cell_type": "markdown",
   "metadata": {},
   "source": [
    "~~~python\n",
    "# 자동 스크린샷 프로그램 만들기\n",
    "import pyautogui\n",
    "import keyboard\n",
    "time.sleep(1)\n",
    "i = 0\n",
    "\n",
    "print(\"마우스를 움직이세요. 엔터 키를 누르면 현재 위치에서 스크린샷이 찍힙니다.\")\n",
    "print(\"종료하려면 ESC 키를 누르세요.\")\n",
    "\n",
    "while True:\n",
    "    # 사용자가 엔터 키를 누르면\n",
    "    if keyboard.is_pressed('enter'):\n",
    "        # 현재 마우스 위치를 가져온다.\n",
    "        x, y = pyautogui.position()\n",
    "        \n",
    "        # 스크린샷을 찍고 파일로 저장한다.\n",
    "        pyautogui.screenshot(f\"{i}.png\", region=(x, y, 100, 50))\n",
    "        print(f\"스크린샷 저장: {i}.png (x={x}, y={y}, width=30, height=30)\")\n",
    "        \n",
    "        time.sleep(0.1)\n",
    "\n",
    "        # 인덱스 i를 증가시킨다.\n",
    "        i += 1\n",
    "\n",
    "    # 사용자가 ESC 키를 누르면 종료한다.\n",
    "    if keyboard.is_pressed('esc'):\n",
    "        break\n",
    "~~~"
   ]
  },
  {
   "cell_type": "code",
   "execution_count": null,
   "metadata": {},
   "outputs": [],
   "source": [
    "#Practice here!\n"
   ]
  },
  {
   "attachments": {},
   "cell_type": "markdown",
   "metadata": {},
   "source": [
    "~~~python\n",
    "# 스크린샷의 좌표 클릭하기\n",
    "num1 = pyautogui.locateOnScreen('1.png')\n",
    "print(num1)\n",
    "\n",
    "pyautogui.click(num1)\n",
    "~~~"
   ]
  },
  {
   "cell_type": "code",
   "execution_count": null,
   "metadata": {},
   "outputs": [],
   "source": [
    "#Practice here!\n"
   ]
  },
  {
   "cell_type": "code",
   "execution_count": null,
   "metadata": {},
   "outputs": [],
   "source": [
    "#Practice here!\n"
   ]
  },
  {
   "attachments": {},
   "cell_type": "markdown",
   "metadata": {},
   "source": [
    "~~~python\n",
    "#응용 사례 소개\n",
    "import pyautogui\n",
    "import time\n",
    "\n",
    "# Chrome 브라우저를 실행하는 단축키를 입력합니다 (시스템에 따라 다를 수 있습니다).\n",
    "pyautogui.hotkey('win', 'r')\n",
    "time.sleep(1)\n",
    "pyautogui.write('chrome')\n",
    "time.sleep(1)\n",
    "pyautogui.press('enter')\n",
    "\n",
    "# 브라우저가 로드될 시간을 기다립니다.\n",
    "time.sleep(3)\n",
    "\n",
    "# Google에 접속합니다.\n",
    "pyautogui.write('https://www.google.com')\n",
    "pyautogui.press('enter')\n",
    "\n",
    "# 검색창이 로드될 시간을 기다립니다.\n",
    "time.sleep(3)\n",
    "\n",
    "# 검색어를 입력하고 검색합니다.\n",
    "pyautogui.write('Python web scraping with PyAutoGUI')\n",
    "pyautogui.press('enter')\n",
    "\n",
    "# 검색 결과가 로드될 시간을 기다립니다.\n",
    "time.sleep(3)\n",
    "\n",
    "# 스크린샷을 찍어 저장합니다.\n",
    "screenshot = pyautogui.screenshot()\n",
    "screenshot.save('search_results.png')\n",
    "~~~"
   ]
  },
  {
   "cell_type": "code",
   "execution_count": null,
   "metadata": {},
   "outputs": [],
   "source": [
    "#Practice here!\n"
   ]
  },
  {
   "attachments": {},
   "cell_type": "markdown",
   "metadata": {},
   "source": [
    "### 기타 자동화 기능 소개"
   ]
  },
  {
   "attachments": {},
   "cell_type": "markdown",
   "metadata": {},
   "source": [
    "~~~python\n",
    "# 현재 마우스 정보 표시하기\n",
    "pyautogui.mouseInfo()\n",
    "\n",
    "# 마우스를 원하는 특정 위치로 옮겨놓고, F1키(Copy All)를 누르면, xy좌표나 픽셀 RGB 값 등이 클립보드에 복사됩니다.\n",
    "# 디폴트로 실행시키면, 3초를 기다렸다 해당 정보를 추출합니다.\n",
    "# 이어서 Ctrl + V키로 메모장 같은 곳에 붙여넣기하면 F1키를 누른 시점의 마우스 정보가 나옵니다.\n",
    "~~~"
   ]
  },
  {
   "cell_type": "code",
   "execution_count": null,
   "metadata": {},
   "outputs": [],
   "source": [
    "#Practice here!\n"
   ]
  },
  {
   "attachments": {},
   "cell_type": "markdown",
   "metadata": {},
   "source": [
    "~~~python\n",
    "# 현재 활성화된 윈도우(창) 객체 가져오기 (getActiveWindow)\n",
    "win = pyautogui.getActiveWindow()\n",
    "print(win)\n",
    "\n",
    "# 창 제목\n",
    "print(win.title)\n",
    "\n",
    "# 창 크기\n",
    "print(win.size)\n",
    "print(win.left, win.top, win.right, win.bottom)\n",
    "~~~"
   ]
  },
  {
   "cell_type": "code",
   "execution_count": null,
   "metadata": {},
   "outputs": [],
   "source": [
    "#Practice here!\n"
   ]
  },
  {
   "attachments": {},
   "cell_type": "markdown",
   "metadata": {},
   "source": [
    "~~~python\n",
    "# 모든 윈도우(창) 객체 가져오기 (getAllWindows)\n",
    "for win in pyautogui.getAllWindows():\n",
    "    print(win)\n",
    "~~~"
   ]
  },
  {
   "cell_type": "code",
   "execution_count": null,
   "metadata": {},
   "outputs": [],
   "source": [
    "#Practice here!"
   ]
  },
  {
   "attachments": {},
   "cell_type": "markdown",
   "metadata": {},
   "source": [
    "~~~python\n",
    "# 특정 문자열을 제목에 포함하는 윈도우 객체 n개 가져오기\n",
    "for win in pyautogui.getWindowsWithTitle(\"chrome\"):\n",
    "    print(win)\n",
    "~~~"
   ]
  },
  {
   "cell_type": "code",
   "execution_count": null,
   "metadata": {},
   "outputs": [],
   "source": [
    "#Practice here!\n"
   ]
  },
  {
   "attachments": {},
   "cell_type": "markdown",
   "metadata": {},
   "source": [
    "~~~python\n",
    "# 특정 문자열을 제목에 포함하는 윈도우 객체 1개 가져오기\n",
    "win = pyautogui.getWindowsWithTitle(\"chrome\")[0]\n",
    "print(win)\n",
    "~~~"
   ]
  },
  {
   "cell_type": "code",
   "execution_count": null,
   "metadata": {},
   "outputs": [],
   "source": [
    "#Practice here!\n"
   ]
  },
  {
   "attachments": {},
   "cell_type": "markdown",
   "metadata": {},
   "source": [
    "~~~python\n",
    "# 현재 활성화된 창 정보를 가져옵니다.\n",
    "active_window = pyautogui.getActiveWindow()\n",
    "\n",
    "# 활성화된 창의 제목을 출력합니다.\n",
    "print(f\"활성화된 프로그램: {active_window.title}\")\n",
    "\n",
    "# 활성화된 창이 \"VSCode\"라면 해당 창을 최소화합니다.\n",
    "if \"● pyautogui.ipynb - Visual Studio Code\" in active_window.title:\n",
    "    active_window.minimize()\n",
    "    print(\"최소화 실행\")\n",
    "~~~"
   ]
  },
  {
   "cell_type": "code",
   "execution_count": null,
   "metadata": {},
   "outputs": [],
   "source": [
    "#Practice here!\n"
   ]
  }
 ],
 "metadata": {
  "kernelspec": {
   "display_name": "study",
   "language": "python",
   "name": "python3"
  },
  "language_info": {
   "codemirror_mode": {
    "name": "ipython",
    "version": 3
   },
   "file_extension": ".py",
   "mimetype": "text/x-python",
   "name": "python",
   "nbconvert_exporter": "python",
   "pygments_lexer": "ipython3",
   "version": "3.10.9"
  },
  "orig_nbformat": 4
 },
 "nbformat": 4,
 "nbformat_minor": 2
}
