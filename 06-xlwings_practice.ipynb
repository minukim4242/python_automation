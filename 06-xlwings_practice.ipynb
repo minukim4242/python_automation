{
 "cells": [
  {
   "attachments": {},
   "cell_type": "markdown",
   "id": "fce86af8",
   "metadata": {},
   "source": [
    "## xlwings tutorials\n",
    "\n",
    "본 실습자료는 엑셀 업무자동화를 위한 라이브러리인 xlwings에 대한 tutorials입니다. \t\n",
    "([참고](https://docs.xlwings.org/en/latest/index.html))"
   ]
  },
  {
   "attachments": {},
   "cell_type": "markdown",
   "id": "dff49b56",
   "metadata": {},
   "source": [
    "### 설치"
   ]
  },
  {
   "cell_type": "code",
   "execution_count": null,
   "id": "97c52a29",
   "metadata": {},
   "outputs": [],
   "source": [
    "import xlwings as xw"
   ]
  },
  {
   "attachments": {},
   "cell_type": "markdown",
   "id": "d305b2c4",
   "metadata": {},
   "source": [
    "### 파일 다루기"
   ]
  },
  {
   "attachments": {},
   "cell_type": "markdown",
   "id": "b1b27d4a",
   "metadata": {},
   "source": [
    "~~~python\n",
    "# 새로운 엑셀 파일 생성하기\n",
    "wb = xw.Book()\n",
    "\n",
    "# 기존 파일 불러오기\n",
    "wb = xw.Book('path') # path는 파일의 경로를 의미\n",
    "\n",
    "# 엑셀 파일 저장하기\n",
    "wb.save('path')\n",
    "\n",
    "# 엑셀 파일 종료\n",
    "xw.apps.active.quit()\n",
    "~~~"
   ]
  },
  {
   "cell_type": "code",
   "execution_count": null,
   "id": "520e48fe",
   "metadata": {},
   "outputs": [],
   "source": [
    "# 코드를 입력하세요\n",
    "wb = xw.Book('myexcel.xlsx')"
   ]
  },
  {
   "attachments": {},
   "cell_type": "markdown",
   "id": "cf4d62fe",
   "metadata": {},
   "source": [
    "### 워크시트 실습"
   ]
  },
  {
   "attachments": {},
   "cell_type": "markdown",
   "id": "656f9af7",
   "metadata": {},
   "source": [
    "~~~python\n",
    "# 현재 엑셀파일 이름 불러오기\n",
    "wb.fullname\n",
    "\n",
    "# 이름으로 시트 선택\n",
    "ws = wb.sheets['Sheet1']\n",
    "\n",
    "# 첫번째 시트 선택\n",
    "ws = wb.sheets[0]\n",
    "\n",
    "# 현재 선택한 시트 이름 변경\n",
    "ws.name = 'Sheet_name'\n",
    "\n",
    "# 시트 추가\n",
    "wb.sheets.add('Sheet_name')\n",
    "\n",
    "# 현재 엑셀파일 시트 이름 리스트로 불러오기\n",
    "wb.sheets\n",
    "\n",
    "# 시트 이름만 불러오기\n",
    "ws.name\n",
    "\n",
    "# 해당 시트 삭제\n",
    "wb.sheets['Sheet_name'].delete()\n",
    "~~~"
   ]
  },
  {
   "cell_type": "code",
   "execution_count": null,
   "id": "db580d25",
   "metadata": {},
   "outputs": [],
   "source": [
    "# 코드를 입력하세요\n",
    "wb.sheets.add('A')\n",
    "wb.sheets.add('B')\n",
    "wb.sheets"
   ]
  },
  {
   "cell_type": "code",
   "execution_count": null,
   "id": "040f86e2",
   "metadata": {},
   "outputs": [],
   "source": [
    "li = wb.sheets\n",
    "for i in li:\n",
    "    print(i.name)"
   ]
  },
  {
   "attachments": {},
   "cell_type": "markdown",
   "id": "cafa7667",
   "metadata": {},
   "source": [
    "### 미니 프로젝트 1\n",
    "1. 엑셀 파일을 새로 생성하세요\n",
    "2. productA, productB의 이름을 가진 시트를 추가하세요\n",
    "3. 엑셀파일에 존재하는 모든 시트의 이름을 출력하세요\n",
    "4. 'project1.xlsx'로 생성한 엑셀 파일을 저장하세요"
   ]
  },
  {
   "cell_type": "code",
   "execution_count": null,
   "id": "57ab1c75",
   "metadata": {},
   "outputs": [],
   "source": [
    "# 정답 코드\n"
   ]
  },
  {
   "attachments": {},
   "cell_type": "markdown",
   "id": "19e05741",
   "metadata": {},
   "source": [
    "### 셀 다루기"
   ]
  },
  {
   "attachments": {},
   "cell_type": "markdown",
   "id": "6fed4156",
   "metadata": {},
   "source": [
    "~~~python\n",
    "# 해당 셀의 값 가져오기\n",
    "ws.range('A1').value\n",
    "\n",
    "# 해당 셀에 값 채워넣기\n",
    "ws.range('A1').value = '값'\n",
    "\n",
    "# 해당 셀에 엑셀 고유의 함수 넣기\n",
    "ws.range('A3').value = '=SUM(A1:A2)'\n",
    "\n",
    "# 엑셀의 첫 행 찾기 \n",
    "first_row = ws.range('A1').end('up').row\n",
    "\n",
    "# 엑셀의 최대 행 찾기 \n",
    "last_row = ws.range('A1').end('down').row\n",
    "\n",
    "# 엑셀의 첫 열 찾기 \n",
    "first_col = ws.range('A1').end('left').column\n",
    "\n",
    "# 엑셀의 최대 열 찾기\n",
    "last_col = ws.range('A1').end('right').column\n",
    "\n",
    "# A1에서 시작하는 테이블 불러오기\n",
    "ws.range('A1').expand('table').value\n",
    "\n",
    "# 1행과 3행 사이에 빈 행 추가\n",
    "ws.range('1:3').insert()\n",
    "\n",
    "# A열과 C열 사이에 빈 행 추가\n",
    "ws.range('A:C').insert()\n",
    "\n",
    "# A1셀과 C1셀 병합\n",
    "ws.range('A1:C1').merge()\n",
    "~~~"
   ]
  },
  {
   "cell_type": "code",
   "execution_count": null,
   "id": "fc87df75",
   "metadata": {},
   "outputs": [],
   "source": [
    "# 코드를 입력하세요\n",
    "a = wb.sheets[2].range('A1').value\n",
    "a"
   ]
  },
  {
   "attachments": {},
   "cell_type": "markdown",
   "id": "a3b45ba6",
   "metadata": {},
   "source": [
    "### 셀 다루기 심화"
   ]
  },
  {
   "attachments": {},
   "cell_type": "markdown",
   "id": "31e5c9a7",
   "metadata": {},
   "source": [
    "~~~python\n",
    "sheet = ws\n",
    "\n",
    "# A1을 기준으로 열 추가\n",
    "sheet['A1'].value = [[1],[2],[3],[4],[5]]\n",
    "\n",
    "# A1을 기준으로 행 추가\n",
    "sheet['A1'].value = [1, 2, 3, 4, 5]\n",
    "\n",
    "# A1을 기준으로 행렬 추가\n",
    "sheet['A10'].value = [['Foo 1', 'Foo 2', 'Foo 3'], [10, 20, 30]]\n",
    "\n",
    "# A1이 속한 테이블 범위 불러오기\n",
    "range1 = sheet['A1'].expand('table')\n",
    "range2 = sheet['A1'].options(expand='table')\n",
    "~~~"
   ]
  },
  {
   "cell_type": "code",
   "execution_count": null,
   "id": "56ad26d9",
   "metadata": {},
   "outputs": [],
   "source": [
    "# 코드를 입력하세요\n",
    "sheet = ws"
   ]
  },
  {
   "attachments": {},
   "cell_type": "markdown",
   "id": "a3774cb5",
   "metadata": {},
   "source": [
    "### 셀 인덱싱 및 슬라이싱"
   ]
  },
  {
   "attachments": {},
   "cell_type": "markdown",
   "id": "6e546a44",
   "metadata": {},
   "source": [
    "~~~python\n",
    "# 선택할 테이블 범위 지정\n",
    "myrange = ws.range('A1:D5')\n",
    "\n",
    "# 테이블 인덱싱 및 슬라이싱\n",
    "myrange[0, 0]\n",
    "myrange[1]\n",
    "myrange[:, 3:]\n",
    "myrange[1:3, 1:3]\n",
    "\n",
    "# 시트 전체에 대하여 인덱싱 및 슬라이싱\n",
    "sheet = ws\n",
    "sheet['A1']\n",
    "sheet['A1:B5']\n",
    "sheet[0, 1]\n",
    "sheet[:10, :10]\n",
    "~~~"
   ]
  },
  {
   "cell_type": "code",
   "execution_count": null,
   "id": "5ea5967c",
   "metadata": {},
   "outputs": [],
   "source": [
    "# 코드를 입력하세요"
   ]
  },
  {
   "attachments": {},
   "cell_type": "markdown",
   "id": "03464b23",
   "metadata": {},
   "source": [
    "### 폰트 및 정렬 "
   ]
  },
  {
   "attachments": {},
   "cell_type": "markdown",
   "id": "18beefdd",
   "metadata": {},
   "source": [
    "~~~python\n",
    "# 선택 범위 볼드체 변경\n",
    "ws.range('A1').font.bold = True\n",
    "\n",
    "# 선택 범위 이탤릭체 변경\n",
    "ws.range('A1').font.italic = True\n",
    "\n",
    "# 선택 범위 폰트사이즈 20 변경\n",
    "ws.range('A1').font.size = 20\n",
    "\n",
    "# 선택 범위 폰트 컬러 RGB (0, 0, 255) 변경\n",
    "ws.range('A1').font.color = (0, 0, 255)\n",
    "\n",
    "# 선택 범위 셀 컬러 RGB (0, 0, 255) 변경\n",
    "ws.range('A1').color = (0, 0, 255)\n",
    "~~~"
   ]
  },
  {
   "cell_type": "code",
   "execution_count": null,
   "id": "66125b81",
   "metadata": {},
   "outputs": [],
   "source": [
    "# 코드를 입력하세요"
   ]
  },
  {
   "attachments": {},
   "cell_type": "markdown",
   "id": "c8071578",
   "metadata": {},
   "source": [
    "### 셀 복사 및 붙혀넣기 "
   ]
  },
  {
   "attachments": {},
   "cell_type": "markdown",
   "id": "ddf28520",
   "metadata": {},
   "source": [
    "~~~python\n",
    "# 해당 범위 수식 포함 복사\n",
    "ws.range('A1:C10').copy()\n",
    "\n",
    "# 해당 범위에 수식 포함 붙혀넣기\n",
    "ws.range('E1').paste()\n",
    "\n",
    "# 해당 범위에 값만 붙혀넣기\n",
    "ws.range('E1').paste(paste='values')\n",
    "~~~"
   ]
  },
  {
   "cell_type": "code",
   "execution_count": null,
   "id": "e81eb3e2",
   "metadata": {},
   "outputs": [],
   "source": [
    "# 코드를 입력하세요"
   ]
  },
  {
   "attachments": {},
   "cell_type": "markdown",
   "id": "f12ab4d9",
   "metadata": {},
   "source": [
    "### 미니 프로젝트2\n",
    "1. 파일명 '판매현황.xlsx'인 엑셀 파일을 불러오세요\n",
    "2. Sheet1(기본시트)의 A1, B1 셀에 '제품명', '판매량' 열을 추가하세요 \n",
    "3. 2에서 추가된 열 아래에 제품명, 가격 데이터 ['아메리카노', 500], ['카페라떼', 700], ['카푸치노', 400] 를 입력하세요\n",
    "4. B5 셀에 모든 제품 가격의 합을 입력하고 그것을 주피터 노트북에 출력하세요"
   ]
  },
  {
   "cell_type": "code",
   "execution_count": null,
   "id": "a824e3dc",
   "metadata": {},
   "outputs": [],
   "source": [
    "# 정답 코드\n"
   ]
  },
  {
   "attachments": {},
   "cell_type": "markdown",
   "id": "8d18dbf0",
   "metadata": {},
   "source": [
    "### 외부 데이터 라이브러리 이용하여 엑셀 다루기"
   ]
  },
  {
   "cell_type": "code",
   "execution_count": null,
   "id": "c60b0f39",
   "metadata": {},
   "outputs": [],
   "source": [
    "import numpy as np\n",
    "import pandas as pd"
   ]
  },
  {
   "attachments": {},
   "cell_type": "markdown",
   "id": "0acc9f59",
   "metadata": {},
   "source": [
    "~~~python\n",
    "# numpy를 이용하여 엑셀에 값 추가하기\n",
    "sheet = ws\n",
    "sheet['A1'].value = np.eye(3)\n",
    "sheet['A1'].options(np.array, expand='table').value\n",
    "\n",
    "# pandas를 이용하여 엑셀에 데이터프레임 추가하기\n",
    "sheet = ws\n",
    "df = pd.DataFrame([[1.1, 2.2], [3.3, None]], columns=['one', 'two'])\n",
    "sheet['A1'].value = df\n",
    "sheet['A1:C3'].options(pd.DataFrame).value\n",
    "sheet['A5'].options(index=False).value = df\n",
    "sheet['A9'].options(index=False, header=False).value = df\n",
    "\n",
    "# pandas를 이용하여 엑셀에 시리즈 추가하기\n",
    "sheet = ws\n",
    "s = pd.Series([1.1, 3.3, 5., np.nan, 6., 8.], name='myseries')\n",
    "sheet['A1'].value = s\n",
    "sheet['A1:B7'].options(pd.Series).value\n",
    "~~~"
   ]
  },
  {
   "cell_type": "code",
   "execution_count": null,
   "id": "2c322ed5",
   "metadata": {},
   "outputs": [],
   "source": [
    "# 코드를 입력하세요"
   ]
  },
  {
   "attachments": {},
   "cell_type": "markdown",
   "id": "21be34e6",
   "metadata": {},
   "source": [
    "### 차트 실습"
   ]
  },
  {
   "cell_type": "code",
   "execution_count": null,
   "id": "96bcaaf5",
   "metadata": {},
   "outputs": [],
   "source": [
    "import matplotlib.pyplot as plt\n",
    "import plotly.express as px"
   ]
  },
  {
   "attachments": {},
   "cell_type": "markdown",
   "id": "9fd494e1",
   "metadata": {},
   "source": [
    "~~~python\n",
    "# matplotlib을 이용하여 선차트 엑셀에 추가하기\n",
    "sheet = ws\n",
    "fig = plt.figure()\n",
    "plt.plot([1, 2, 3])\n",
    "sheet.pictures.add(fig, name='plot', update=True)\n",
    "# 지정된 셀 위치에 추가하고 싶은 경우\n",
    "sheet.pictures.add(fig, name='region_plot', update=True, left=sheet.range('B5').left\n",
    "                   , top=sheet.range('B5').top)\n",
    "# 사이즈 조절\n",
    "plot = sheet.pictures.add(fig, name='plot', update=True)\n",
    "plot.height /= 2\n",
    "plot.width /= 2\n",
    "\n",
    "# plotly를 이용하여 기본데이터의 산점도 엑셀에 추가하기\n",
    "df = px.data.iris()\n",
    "fig = px.scatter(df, x=\"sepal_width\", y=\"sepal_length\", color=\"species\")\n",
    "wb = xw.Book()\n",
    "wb.sheets[0].pictures.add(fig, name='IrisScatterPlot', update=True)\n",
    "\n",
    "# pandas 데이터프레임을 이용하여 바차트 엑셀에 추가하기\n",
    "sheet = ws\n",
    "df = pd.DataFrame(np.random.rand(10, 4), columns=['a', 'b', 'c', 'd'])\n",
    "ax = df.plot(kind='bar')\n",
    "fig = ax.get_figure()\n",
    "sheet.pictures.add(fig, name='bar_chart', update=True)\n",
    "~~~"
   ]
  },
  {
   "cell_type": "code",
   "execution_count": null,
   "id": "4972764d",
   "metadata": {},
   "outputs": [],
   "source": [
    "# 코드를 입력하세요\n"
   ]
  }
 ],
 "metadata": {
  "kernelspec": {
   "display_name": "Python 3 (ipykernel)",
   "language": "python",
   "name": "python3"
  },
  "language_info": {
   "codemirror_mode": {
    "name": "ipython",
    "version": 3
   },
   "file_extension": ".py",
   "mimetype": "text/x-python",
   "name": "python",
   "nbconvert_exporter": "python",
   "pygments_lexer": "ipython3",
   "version": "3.10.9"
  }
 },
 "nbformat": 4,
 "nbformat_minor": 5
}
