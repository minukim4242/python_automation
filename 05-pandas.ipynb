{
 "cells": [
  {
   "cell_type": "code",
   "execution_count": null,
   "metadata": {},
   "outputs": [],
   "source": [
    "!pip install pandas"
   ]
  },
  {
   "attachments": {},
   "cell_type": "markdown",
   "metadata": {},
   "source": [
    "### Series 데이터: 1차원 데이터\n",
    "파이썬의 list와 유사함"
   ]
  },
  {
   "cell_type": "code",
   "execution_count": null,
   "metadata": {},
   "outputs": [],
   "source": [
    "import pandas as pd\n",
    "\n",
    "data = ['apple', 'banana', 'computer', 'domino', 'elephant']\n",
    "s = pd.Series(data)\n",
    "print(s)"
   ]
  },
  {
   "attachments": {},
   "cell_type": "markdown",
   "metadata": {},
   "source": [
    "### DataFrame 데이터: 2차원 데이터\n",
    "여러개의 Series 데이터를 묶은 형태"
   ]
  },
  {
   "cell_type": "code",
   "execution_count": null,
   "metadata": {},
   "outputs": [],
   "source": [
    "data = [['John', 21, 'M'],\n",
    "        ['Sara', 30, 'F'],\n",
    "        ['Tom', 25, 'M'],\n",
    "        ['Peter', 34, 'M']]\n",
    "df = pd.DataFrame(data)\n",
    "print(df)"
   ]
  },
  {
   "attachments": {},
   "cell_type": "markdown",
   "metadata": {},
   "source": [
    "DataFrame을 print() 하면 자동으로 ‘행(=index)’과 ‘열(=column)’의 이름이 0번부터 번호가 매겨집니다.\n",
    "\n",
    "\n",
    "행, 열에 각각 이름을 부여할 수 있습니다."
   ]
  },
  {
   "cell_type": "code",
   "execution_count": null,
   "metadata": {},
   "outputs": [],
   "source": [
    "data = [['John', 21, 'M'],\n",
    "        ['Sara', 30, 'F'],\n",
    "        ['Tom', 25, 'M'],\n",
    "        ['Peter', 34, 'M']]\n",
    "df = pd.DataFrame(data, columns=['name', 'age', 'gender'])\n",
    "print(df)"
   ]
  },
  {
   "cell_type": "code",
   "execution_count": null,
   "metadata": {},
   "outputs": [],
   "source": [
    "data = [['John', 21, 'M'],\n",
    "        ['Sara', 30, 'F'],\n",
    "        ['Tom', 25, 'M'],\n",
    "        ['Peter', 34, 'M']]\n",
    "df = pd.DataFrame(data)\n",
    "\n",
    "# 컬럼은 추후에 만들어줘도 괜찮습니다\n",
    "df.columns = ['name', 'age', 'gender']\n",
    "print(df)"
   ]
  },
  {
   "cell_type": "code",
   "execution_count": null,
   "metadata": {},
   "outputs": [],
   "source": [
    "# 인덱스 추가\n",
    "df.index = [\"1번\", \"2번\", \"3번\", \"4번\"]\n",
    "print(df)\n"
   ]
  },
  {
   "cell_type": "code",
   "execution_count": null,
   "metadata": {},
   "outputs": [],
   "source": [
    "data = [['John', 21, 'M'],\n",
    "        ['Sara', 30, 'F'],\n",
    "        ['Tom', 25, 'M'],\n",
    "        ['Peter', 34, 'M']]\n",
    "df = pd.DataFrame(data, columns=['name', 'age', 'gender'], index = [\"1번\", \"2번\", \"3번\", \"4번\"])\n",
    "print(df)"
   ]
  },
  {
   "attachments": {},
   "cell_type": "markdown",
   "metadata": {},
   "source": [
    "index이름과 column이름을 추가할 때, 반드시 df의 column or index 개수와 일치해야합니다. \n",
    "\n",
    "그렇지 않을시 에러가 발생합니다."
   ]
  },
  {
   "cell_type": "code",
   "execution_count": null,
   "metadata": {},
   "outputs": [],
   "source": [
    "data = [['John', 21, 'M'],\n",
    "        ['Sara', 30, 'F'],\n",
    "        ['Tom', 25, 'M'],\n",
    "        ['Peter', 34, 'M']]\n",
    "df = pd.DataFrame(data, columns=['name', 'age', 'gender'], index = [\"1번\", \"2번\", \"3번\", \"4번\", \"5번\"])\n",
    "print(df)"
   ]
  },
  {
   "cell_type": "code",
   "execution_count": null,
   "metadata": {},
   "outputs": [],
   "source": [
    "# index, column 개수를 알고싶다면 shape 속성을 사용하시면 됩니다.\n",
    "\n",
    "df = pd.DataFrame(data)\n",
    "# (행 개수, 열 개수)\n",
    "print(df.shape)"
   ]
  },
  {
   "attachments": {},
   "cell_type": "markdown",
   "metadata": {},
   "source": [
    "### DataFrame 열추가"
   ]
  },
  {
   "cell_type": "code",
   "execution_count": null,
   "metadata": {},
   "outputs": [],
   "source": [
    "# insert()\n",
    "# insert(column_index, column_name, value)   # 3가지 파라미터 필요\n",
    "# DataFrame에 컬럼을 한 개 추가합니다.\n",
    "\n",
    "data = [['John', 21, 'M'],\n",
    "        ['Sara', 30, 'F'],\n",
    "        ['Tom', 25, 'M'],\n",
    "        ['Peter', 34, 'M']]\n",
    "\n",
    "columns = ['name', 'age', 'gender']\n",
    "df = pd.DataFrame(data, columns=columns)\n",
    "\n",
    "print(df)"
   ]
  },
  {
   "cell_type": "code",
   "execution_count": null,
   "metadata": {},
   "outputs": [],
   "source": [
    "# scores 컬럼 추가\n",
    "scores = [9, 8, 10, 9]\n",
    "df.insert(df.shape[1], 'score', scores)\n",
    "\n",
    "print(df)"
   ]
  },
  {
   "cell_type": "code",
   "execution_count": null,
   "metadata": {},
   "outputs": [],
   "source": [
    "# 모든 값이 동일하다면, 리스트로 전달하지 않아도 됩니다.\n",
    "data = [['John', 21, 'M'],\n",
    "        ['Sara', 30, 'F'],\n",
    "        ['Tom', 25, 'M'],\n",
    "        ['Peter', 34, 'M']]\n",
    "\n",
    "columns = ['name', 'age', 'gender']\n",
    "df = pd.DataFrame(data, columns=columns)\n",
    "\n",
    "print(df)"
   ]
  },
  {
   "cell_type": "code",
   "execution_count": null,
   "metadata": {},
   "outputs": [],
   "source": [
    "df.insert(df.shape[1], 'score', 0)\n",
    "print(df)"
   ]
  },
  {
   "cell_type": "code",
   "execution_count": null,
   "metadata": {},
   "outputs": [],
   "source": [
    "# 다른 추가 방법 1\n",
    "data = [['John', 21, 'M'],\n",
    "        ['Sara', 30, 'F'],\n",
    "        ['Tom', 25, 'M'],\n",
    "        ['Peter', 34, 'M']]\n",
    "\n",
    "columns = ['name', 'age', 'gender']\n",
    "df = pd.DataFrame(data, columns=columns)\n",
    "\n",
    "print(df)"
   ]
  },
  {
   "cell_type": "code",
   "execution_count": null,
   "metadata": {},
   "outputs": [],
   "source": [
    "# 리스트로 추가\n",
    "scores = [9, 8, 10, 9]\n",
    "df['score'] = scores\n",
    "print(df)"
   ]
  },
  {
   "cell_type": "code",
   "execution_count": null,
   "metadata": {},
   "outputs": [],
   "source": [
    "# 모두 동일한 값으로 초기화하여 추가\n",
    "df['score'] = 0\n",
    "print(df)"
   ]
  },
  {
   "attachments": {},
   "cell_type": "markdown",
   "metadata": {},
   "source": [
    "### DataFrame 행 추가"
   ]
  },
  {
   "cell_type": "code",
   "execution_count": null,
   "metadata": {},
   "outputs": [],
   "source": [
    "# 행 추가시 append 사용\n",
    "# 먼저, append의 정확한 사용법에 앞서 다음 코드와 수행결과를 관찰해봅시다.\n",
    "\n",
    "data = [['John', 21, 'M'],\n",
    "        ['Sara', 30, 'F'],\n",
    "        ['Tom', 25, 'M'],\n",
    "        ['Peter', 34, 'M']]\n",
    "\n",
    "df = pd.DataFrame(data)\n",
    "new_person = ['Max', 33, 'F']\n",
    "print(df)\n",
    "print()\n",
    "\n",
    "new_df = df.append(new_person, ignore_index=True)\n",
    "print(new_df)"
   ]
  },
  {
   "cell_type": "code",
   "execution_count": null,
   "metadata": {},
   "outputs": [],
   "source": [
    "# 한 개의 행을 추가하길 바랐지만 기대한 모양과 완전히 다른 것을 확인할 수 있습니다.\n",
    "    \n",
    "# DataFrame = Series의 집합체\n",
    "    \n",
    "# 한 개의 column = 한 개의 Series / 즉, 행단위가 아닌 열단위로 Series가 모여있는 형태"
   ]
  },
  {
   "attachments": {},
   "cell_type": "markdown",
   "metadata": {},
   "source": [
    "case 1)\n",
    "       0 |    1  |  2\n",
    "0   John | 21.0  |  M\n",
    "1   Sara | 30.0  |  F\n",
    "2    Tom | 25.0  |  M\n",
    "3  Peter | 34.0  |  M\n",
    "\n",
    "df는 위와 같이 3개의 Series가 모여있는 형태입니다\n",
    "\n",
    "case 2)\n",
    "      0   1  2\n",
    "0   John  21  M\n",
    "----------------\n",
    "1   Sara  30  F\n",
    "----------------\n",
    "2    Tom  25  M\n",
    "----------------\n",
    "3  Peter  34  M\n",
    "\n",
    "이렇게 4개의 Series가 모여있는 것이 아닙니다\n",
    "\n",
    "\n",
    "즉, list를 DataFrame에 추가하는 것은 Series를 하나 추가한다고 봐도 무방합니다.\n",
    "\n",
    "결론적으로 case 2)와 같은 형태라면, 아래쪽에 데이터를 추가하는 함수인 append()를 사용했을 때 깔끔하게 한 줄이 추가되겠지만, 실제로는 case 1)과 같은 형태이므로 위 코드와 같이 괴상한 형태로 추가가 됩니다."
   ]
  },
  {
   "cell_type": "code",
   "execution_count": null,
   "metadata": {},
   "outputs": [],
   "source": [
    "# 원하는 결과를 얻기 위해서는 다음과 같이 행을 추가합니다.\n",
    "data = [['John', 21, 'M'],\n",
    "        ['Sara', 30, 'F'],\n",
    "        ['Tom', 25, 'M'],\n",
    "        ['Peter', 34, 'M']]\n",
    "\n",
    "columns = ['name', 'age', 'gender']\n",
    "df = pd.DataFrame(data, columns=columns)\n",
    "\n",
    "# dictionary 형태로 추가\n",
    "new_person = {'name': 'Max', 'age': 33, 'gender': 'F'}\n",
    "df = df.append(new_person, ignore_index=True)\n",
    "print(df)"
   ]
  },
  {
   "attachments": {},
   "cell_type": "markdown",
   "metadata": {},
   "source": [
    "### DataFrame간의 합"
   ]
  },
  {
   "cell_type": "code",
   "execution_count": null,
   "metadata": {},
   "outputs": [],
   "source": [
    "data = [['John', 21, 'M'],\n",
    "        ['Sara', 30, 'F'],\n",
    "        ['Tom', 25, 'M'],\n",
    "        ['Peter', 34, 'M']]\n",
    "\n",
    "columns = ['name', 'age', 'gender']\n",
    "df1 = pd.DataFrame(data, columns=columns)\n",
    "\n",
    "data = [[90, 88, 89],\n",
    "        [70, 75, 90],\n",
    "        [83, 89, 85],\n",
    "        [72, 95, 90]]\n",
    "\n",
    "columns = ['korean', 'english', 'math']\n",
    "df2 = pd.DataFrame(data, columns=columns)"
   ]
  },
  {
   "cell_type": "code",
   "execution_count": null,
   "metadata": {},
   "outputs": [],
   "source": [
    "print(df1)"
   ]
  },
  {
   "cell_type": "code",
   "execution_count": null,
   "metadata": {},
   "outputs": [],
   "source": [
    "print(df2)"
   ]
  },
  {
   "cell_type": "code",
   "execution_count": null,
   "metadata": {},
   "outputs": [],
   "source": [
    "con_df = pd.concat([df1, df2], axis=1)\n",
    "print(con_df)"
   ]
  },
  {
   "attachments": {},
   "cell_type": "markdown",
   "metadata": {},
   "source": [
    "concat( 합성할 DataFrame들 리스트, axis=0 or 1)\n",
    "\n",
    "axis=0 : 상, 하 방향 합성 / column명이 같으면 한 column으로 합성\n",
    "\n",
    "axis=1 : 좌, 우 방향 합성 / index명이 같으면 한 index로 합성\n",
    "\n",
    "axis 파라미터는 pandas의 많은 함수들에서 등장합니다. axis=0 이라면 ‘행(index)’관련, axis=1 이라면 ‘열(columns)’관련 일을 처리한다고 생각하시면 됩니다."
   ]
  },
  {
   "cell_type": "code",
   "execution_count": null,
   "metadata": {},
   "outputs": [],
   "source": [
    "data = [['John', 21, 'M'],\n",
    "        ['Sara', 30, 'F'],\n",
    "        ['Tom', 25, 'M'],\n",
    "        ['Peter', 34, 'M']]\n",
    "\n",
    "columns = ['name', 'age', 'gender']\n",
    "df1 = pd.DataFrame(data, columns=columns)\n",
    "\n",
    "data = [[90, 88, 89],\n",
    "        [70, 75, 90],\n",
    "        [83, 89, 85],\n",
    "        [72, 95, 90]]\n",
    "\n",
    "columns = ['korean', 'english', 'math']\n",
    "# df2에 인덱스를 변경\n",
    "df2 = pd.DataFrame(data, columns=columns, index = [2, 3, 4, 5])"
   ]
  },
  {
   "cell_type": "code",
   "execution_count": null,
   "metadata": {},
   "outputs": [],
   "source": [
    "print(df1)"
   ]
  },
  {
   "cell_type": "code",
   "execution_count": null,
   "metadata": {},
   "outputs": [],
   "source": [
    "print(df2)"
   ]
  },
  {
   "cell_type": "code",
   "execution_count": null,
   "metadata": {},
   "outputs": [],
   "source": [
    "con_df = pd.concat([df1, df2], axis=1)\n",
    "print(con_df)\n",
    "\n",
    "# index 2, 3은 합성되고 나머지는 독립적\n",
    "# 빈 칸은 NaN(=None =Null)으로 채워짐"
   ]
  },
  {
   "cell_type": "code",
   "execution_count": null,
   "metadata": {},
   "outputs": [],
   "source": [
    "data = [['John', 21, 'M'],\n",
    "        ['Sara', 30, 'F'],\n",
    "        ['Tom', 25, 'M'],\n",
    "        ['Peter', 34, 'M']]\n",
    "\n",
    "columns = ['name', 'age', 'gender']\n",
    "df1 = pd.DataFrame(data, columns=columns)\n",
    "\n",
    "data = [['Max', 33, 'M'],\n",
    "        ['Bob', 27, 'F']]\n",
    "\n",
    "columns = ['name', 'age', 'gender']\n",
    "df2 = pd.DataFrame(data, columns=columns)"
   ]
  },
  {
   "cell_type": "code",
   "execution_count": null,
   "metadata": {},
   "outputs": [],
   "source": [
    "print(df1)"
   ]
  },
  {
   "cell_type": "code",
   "execution_count": null,
   "metadata": {},
   "outputs": [],
   "source": [
    "print(df2)"
   ]
  },
  {
   "cell_type": "code",
   "execution_count": null,
   "metadata": {},
   "outputs": [],
   "source": [
    "# axis = 0\n",
    "con_df = pd.concat([df1, df2], axis=0)\n",
    "print(con_df)"
   ]
  },
  {
   "attachments": {},
   "cell_type": "markdown",
   "metadata": {},
   "source": [
    "합성된 모양은 원하는 모양과 일치하지만, index가 이상한 것을 확인할 수 있습니다.\n",
    "\n",
    "ignore_index=True 옵션을 전달하면 합성하려는 모든 DataFrame들의 index를 무시하고 0부터 차례대로 index 번호를 부여합니다. (default 값은 False)"
   ]
  },
  {
   "cell_type": "code",
   "execution_count": null,
   "metadata": {},
   "outputs": [],
   "source": [
    "con_df = pd.concat([df1, df2], axis=0, ignore_index=True)\n",
    "print(con_df)"
   ]
  },
  {
   "attachments": {},
   "cell_type": "markdown",
   "metadata": {},
   "source": [
    "### DataFrame 내용 삭제\n",
    "\n",
    "pd.drop()\n",
    "\n",
    "행 삭제 pd.drop( [삭제하고자 하는 행 이름들], axis=0 )\n",
    "\n",
    "열 삭제 pd.drop( [삭제하고자 하는 열 이름들], axis=1 )"
   ]
  },
  {
   "cell_type": "code",
   "execution_count": null,
   "metadata": {},
   "outputs": [],
   "source": [
    "# 원본 훼손 방지를 위해 깊은 복사 이용\n",
    "df = con_df.copy()"
   ]
  },
  {
   "cell_type": "code",
   "execution_count": null,
   "metadata": {},
   "outputs": [],
   "source": [
    "print(df)"
   ]
  },
  {
   "cell_type": "code",
   "execution_count": null,
   "metadata": {},
   "outputs": [],
   "source": [
    "# 2, 3 번째 행을 삭제하는 예제\n",
    "df = df.drop([2, 3], axis=0)\n",
    "print(df)"
   ]
  },
  {
   "cell_type": "code",
   "execution_count": null,
   "metadata": {},
   "outputs": [],
   "source": [
    "# age열 삭제\n",
    "# 삭제하고자 하는 대상이 한줄이라면 리스트에 담지 않아도 됩니다.\n",
    "df = df.drop('age', axis=1)\n",
    "print(df)"
   ]
  },
  {
   "attachments": {},
   "cell_type": "markdown",
   "metadata": {},
   "source": [
    "만약 column명을 하나하나 명시하기 귀찮다면 다음과 같이 할 수 있습니다.\n",
    "\n",
    "df.columns ⇒ 컬럼명을 반복가능한 객체에 담아 반환\n",
    "\n",
    "df.columns[n:m+1] ⇒ list 슬라이싱과 동일하게 n번째 컬럼~m번째 컬럼만을 슬라이싱하여 반환 (참고: 여기서 말하는 n번째는 list인덱스와 동일하게 0번부터 시작하는 번호입니다.)"
   ]
  },
  {
   "cell_type": "code",
   "execution_count": null,
   "metadata": {},
   "outputs": [],
   "source": [
    "df = con_df.copy()\n",
    "print(df)"
   ]
  },
  {
   "cell_type": "code",
   "execution_count": null,
   "metadata": {},
   "outputs": [],
   "source": [
    "df = df.drop(df.columns[1:3], axis=1)  # 1, 2번째 column 삭제\n",
    "print(df)"
   ]
  },
  {
   "cell_type": "code",
   "execution_count": null,
   "metadata": {},
   "outputs": [],
   "source": [
    "df = con_df.copy()\n",
    "print(df)"
   ]
  },
  {
   "cell_type": "code",
   "execution_count": null,
   "metadata": {},
   "outputs": [],
   "source": [
    "df = df.drop(df.index[2:5], axis=0)  # 2 ~ 4번째 index 삭제\n",
    "print(df)"
   ]
  },
  {
   "attachments": {},
   "cell_type": "markdown",
   "metadata": {},
   "source": [
    "### csv 혹은 excel 데이터 DataFrame으로 불러오기"
   ]
  },
  {
   "cell_type": "code",
   "execution_count": null,
   "metadata": {},
   "outputs": [],
   "source": [
    "file_path = r'./pd_metadata.csv'\n",
    "df = pd.read_csv(file_path, encoding='cp949')\n",
    "print(df)"
   ]
  },
  {
   "cell_type": "code",
   "execution_count": null,
   "metadata": {},
   "outputs": [],
   "source": [
    "# 첫 줄(메타데이터)은 column명으로 자동으로 들어갑니다. 그러면 만약 메타데이더가 없는 형태라면?\n",
    "file_path = r'./pd_no_metadata.csv'\n",
    "df = pd.read_csv(file_path, encoding='cp949')\n",
    "print(df)\n",
    "\n",
    "# metadata가 없는 형태의 csv파일을 이전 코드와 동일한 방식으로 불러오게 되면 첫 줄이 column명으로 들어가는 문제가 발생합니다."
   ]
  },
  {
   "cell_type": "code",
   "execution_count": null,
   "metadata": {},
   "outputs": [],
   "source": [
    "file_path = r'./pd_no_metadata.csv'\n",
    "# header=None 옵션을 주면 column명이 자동으로 0부터 들어가게 됩니다.\n",
    "df = pd.read_csv(file_path, encoding='cp949', header=None)\n",
    "print(df)"
   ]
  },
  {
   "cell_type": "code",
   "execution_count": null,
   "metadata": {},
   "outputs": [],
   "source": [
    "# 만약 column명을 따로 지정해주고 싶다면 names=[] 으로 지정해주시면 됩니다.\n",
    "file_path = r'./pd_no_metadata.csv'\n",
    "df = pd.read_csv(file_path, encoding='cp949', header=None, names=['name', 'age', 'gender'])\n",
    "print(df)"
   ]
  },
  {
   "attachments": {},
   "cell_type": "markdown",
   "metadata": {},
   "source": [
    "엑셀파일을 읽어오는 방식도 csv파일과 함수만 다를 뿐 내용이 완전히 동일합니다.\n",
    "    \n",
    "read_csv( ) ⇒ read_excel( ) 로만 바꿔서 나머지 내용 동일하게 읽어오시면 됩니다."
   ]
  },
  {
   "attachments": {},
   "cell_type": "markdown",
   "metadata": {},
   "source": [
    "### DataFrame을 csv 혹은 excel파일로 저장하기"
   ]
  },
  {
   "cell_type": "code",
   "execution_count": null,
   "metadata": {},
   "outputs": [],
   "source": [
    "print(con_df)"
   ]
  },
  {
   "cell_type": "code",
   "execution_count": null,
   "metadata": {},
   "outputs": [],
   "source": [
    "save_path = r'./my_first_pandas.csv'\n",
    "con_df.to_csv(save_path)"
   ]
  },
  {
   "cell_type": "code",
   "execution_count": null,
   "metadata": {},
   "outputs": [],
   "source": [
    "# 생성된 csv 파일을 보면 index 번호도 포함되어 있습니다. \n",
    "# 이는 index=False 옵션을 주어 해결할 수 있습니다.\n",
    "save_path = r'./my_first_pandas2.csv'\n",
    "con_df.to_csv(save_path, index=False)"
   ]
  },
  {
   "cell_type": "code",
   "execution_count": null,
   "metadata": {},
   "outputs": [],
   "source": [
    "# 엑셀 파일로 바꾸는 방법은 to_excel() 함수를 사용하면 됩니다.\n",
    "\n",
    "save_path = r'./my_first_pandas.xlsx'\n",
    "con_df.to_excel(save_path, index=False)"
   ]
  },
  {
   "attachments": {},
   "cell_type": "markdown",
   "metadata": {},
   "source": [
    "### iloc함수로 입맛에 맞게 DataFrame 재구성하기"
   ]
  },
  {
   "attachments": {},
   "cell_type": "markdown",
   "metadata": {},
   "source": [
    "df.iloc[ 행 슬라이싱, 열 슬라이싱 ] ⇒ ( ) 가 아닌 [ ] 를 사용합니다.\n",
    "\n",
    "‘행 슬라이싱’ 혹은 ‘열 슬라이싱’ 부분에는 파이썬의 슬라이싱 기법을 사용하시면 됩니다.\n",
    "\n",
    "슬라이싱할 수 있는 형태는 2가지가 있음. **[start:end] 형태**와 **[start: end: step] 형태**\n",
    "\n",
    "[start:end] 형태\n",
    "\n",
    "  [:5] ⇒ 처음부터 4번째까지 즉, 0 1 2 3 4 를 뜻함\n",
    "\n",
    "  [4: -2] ⇒ 처음부터 뒤에서 3번째까지\n",
    "\n",
    "[start: end: step] 형태\n",
    "\n",
    "  [1:7:2] ⇒ 1부터 6까지 2씩 건너뛰며 슬라이싱 즉, 1 3 5 를 뜻함\n",
    "\n",
    "  [:10:3] ⇒ 처음부터 9까지 3씩 건너뛰며 슬라이싱 즉, 0 3 6 9 를 뜻함"
   ]
  },
  {
   "cell_type": "code",
   "execution_count": null,
   "metadata": {},
   "outputs": [],
   "source": [
    "file_path = r'./breast_cancer.csv'\n",
    "df = pd.read_csv(file_path, encoding='cp949')\n",
    "print(df)"
   ]
  },
  {
   "cell_type": "code",
   "execution_count": null,
   "metadata": {},
   "outputs": [],
   "source": [
    "df.head()"
   ]
  },
  {
   "cell_type": "code",
   "execution_count": null,
   "metadata": {},
   "outputs": [],
   "source": [
    "df.tail()"
   ]
  },
  {
   "cell_type": "code",
   "execution_count": null,
   "metadata": {},
   "outputs": [],
   "source": [
    "df.head(10)"
   ]
  },
  {
   "cell_type": "code",
   "execution_count": null,
   "metadata": {},
   "outputs": [],
   "source": [
    "df['mean radius'].head(10)"
   ]
  },
  {
   "cell_type": "code",
   "execution_count": null,
   "metadata": {},
   "outputs": [],
   "source": [
    "# 시리즈 반환\n",
    "type(df['mean radius'].head(10))"
   ]
  },
  {
   "cell_type": "code",
   "execution_count": null,
   "metadata": {},
   "outputs": [],
   "source": [
    "# 데이터프레임\n",
    "df[['mean radius', 'mean texture']].head(10)"
   ]
  },
  {
   "attachments": {},
   "cell_type": "markdown",
   "metadata": {},
   "source": [
    "df['mean radius', ].head(10)"
   ]
  },
  {
   "cell_type": "code",
   "execution_count": null,
   "metadata": {},
   "outputs": [],
   "source": [
    "type(df[['mean radius', 'mean texture']].head(10))"
   ]
  },
  {
   "cell_type": "code",
   "execution_count": null,
   "metadata": {},
   "outputs": [],
   "source": [
    "# 시리즈이므로 잘 동작합니다\n",
    "df['mean radius'].head(10)[0]"
   ]
  },
  {
   "cell_type": "code",
   "execution_count": null,
   "metadata": {},
   "outputs": [],
   "source": [
    "# 데이터프레임이므로 동작하지 않음. 다른 방법을 써야합니다\n",
    "df[['mean radius', 'mean texture']].head(10)[0]"
   ]
  },
  {
   "cell_type": "code",
   "execution_count": null,
   "metadata": {},
   "outputs": [],
   "source": [
    "# df.iloc[행 인덱스, 열 인덱스]"
   ]
  },
  {
   "cell_type": "code",
   "execution_count": null,
   "metadata": {},
   "outputs": [],
   "source": [
    "# 0행 출력\n",
    "df.iloc[0]"
   ]
  },
  {
   "cell_type": "code",
   "execution_count": null,
   "metadata": {},
   "outputs": [],
   "source": [
    "# 컬럼들\n",
    "df.iloc[:0]"
   ]
  },
  {
   "cell_type": "code",
   "execution_count": null,
   "metadata": {},
   "outputs": [],
   "source": [
    "df.iloc[0,1]"
   ]
  },
  {
   "cell_type": "code",
   "execution_count": null,
   "metadata": {},
   "outputs": [],
   "source": []
  },
  {
   "cell_type": "code",
   "execution_count": null,
   "metadata": {},
   "outputs": [],
   "source": []
  },
  {
   "cell_type": "code",
   "execution_count": null,
   "metadata": {},
   "outputs": [],
   "source": [
    "# 슬라이싱이 가능합니다\n",
    "\n",
    "# 0~2행 출력\n",
    "df.iloc[0:3]"
   ]
  },
  {
   "cell_type": "code",
   "execution_count": null,
   "metadata": {},
   "outputs": [],
   "source": [
    "# 0~2행을 출력하되, 0~1컬럼까지만 출력\n",
    "df.iloc[0:3, 0:2]"
   ]
  },
  {
   "cell_type": "code",
   "execution_count": null,
   "metadata": {},
   "outputs": [],
   "source": [
    "# 0~4행을 출력하되, 0~4컬럼까지만 출력\n",
    "df.iloc[:5, :5]"
   ]
  },
  {
   "cell_type": "code",
   "execution_count": null,
   "metadata": {},
   "outputs": [],
   "source": [
    "# [start: end: step] 형태\n",
    "df.iloc[::2, :]"
   ]
  },
  {
   "cell_type": "code",
   "execution_count": null,
   "metadata": {},
   "outputs": [],
   "source": [
    "df.describe()"
   ]
  }
 ],
 "metadata": {
  "kernelspec": {
   "display_name": "study",
   "language": "python",
   "name": "python3"
  },
  "language_info": {
   "codemirror_mode": {
    "name": "ipython",
    "version": 3
   },
   "file_extension": ".py",
   "mimetype": "text/x-python",
   "name": "python",
   "nbconvert_exporter": "python",
   "pygments_lexer": "ipython3",
   "version": "3.8.13"
  },
  "orig_nbformat": 4
 },
 "nbformat": 4,
 "nbformat_minor": 2
}
