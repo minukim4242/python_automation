{
 "cells": [
  {
   "attachments": {},
   "cell_type": "markdown",
   "id": "2ff334eb",
   "metadata": {},
   "source": [
    "# 예제1\n",
    "\n",
    "원하는 소속과 성별을 고르고 해당하는 인원을 example.xlsx 원본 파일의 해당하는 셀에 작성하는 코드를 작성하시오.\n",
    "\n",
    "    - 소속 : B29\n",
    "    - 성별 : C29\n",
    "    - 인원 : D29"
   ]
  },
  {
   "attachments": {},
   "cell_type": "markdown",
   "id": "405bb8d2",
   "metadata": {},
   "source": [
    "import xlwings"
   ]
  },
  {
   "cell_type": "code",
   "execution_count": null,
   "id": "cc8fc0f4",
   "metadata": {},
   "outputs": [],
   "source": [
    "import xlwings as xw"
   ]
  },
  {
   "attachments": {},
   "cell_type": "markdown",
   "id": "5712004b",
   "metadata": {},
   "source": [
    "xlsx 파일을 xlwings 라이브러리를 이용하여 불러오기"
   ]
  },
  {
   "cell_type": "code",
   "execution_count": null,
   "id": "b14b5128",
   "metadata": {},
   "outputs": [],
   "source": [
    "wb = xw.Book('example.xlsx')\n",
    "wb.name"
   ]
  },
  {
   "attachments": {},
   "cell_type": "markdown",
   "id": "f6303413",
   "metadata": {},
   "source": [
    "불러온 xlsx 파일 객체 확인하기"
   ]
  },
  {
   "cell_type": "code",
   "execution_count": null,
   "id": "4e015a9b",
   "metadata": {},
   "outputs": [],
   "source": [
    "wb"
   ]
  },
  {
   "attachments": {},
   "cell_type": "markdown",
   "id": "ec962df0",
   "metadata": {},
   "source": [
    "엑셀 파일의 시트 이름 확인하기"
   ]
  },
  {
   "cell_type": "code",
   "execution_count": null,
   "id": "05c633e3",
   "metadata": {},
   "outputs": [],
   "source": [
    "wb.sheets"
   ]
  },
  {
   "attachments": {},
   "cell_type": "markdown",
   "id": "5e72c622",
   "metadata": {},
   "source": [
    "시트의 개수 파악"
   ]
  },
  {
   "cell_type": "code",
   "execution_count": null,
   "id": "af95f02c",
   "metadata": {},
   "outputs": [],
   "source": [
    "wb.sheets.count"
   ]
  },
  {
   "attachments": {},
   "cell_type": "markdown",
   "id": "b521eac9",
   "metadata": {},
   "source": [
    "시트를 변수에 저장하기"
   ]
  },
  {
   "cell_type": "code",
   "execution_count": null,
   "id": "e01e584d",
   "metadata": {},
   "outputs": [],
   "source": [
    "sh1 = wb.sheets(1)\n",
    "sh2 = wb.sheets(2)\n",
    "print(sh1.name)\n",
    "print(sh2.name)"
   ]
  },
  {
   "attachments": {},
   "cell_type": "markdown",
   "id": "ae5bd616",
   "metadata": {},
   "source": [
    "사원명부 시트에서 열 정보 불러오기"
   ]
  },
  {
   "cell_type": "code",
   "execution_count": null,
   "id": "56976db8",
   "metadata": {},
   "outputs": [],
   "source": [
    "cols =sh1['A1:I1'].value\n",
    "print(cols, type(cols))"
   ]
  },
  {
   "attachments": {},
   "cell_type": "markdown",
   "id": "e03f84bf",
   "metadata": {},
   "source": [
    "선택할 수 있는 소속이 어떤 것들이 있는지 확인하시오."
   ]
  },
  {
   "cell_type": "code",
   "execution_count": null,
   "id": "49baa172",
   "metadata": {},
   "outputs": [],
   "source": [
    "team = sh1['F2:F26'].value\n",
    "team = set(team)\n",
    "team"
   ]
  },
  {
   "attachments": {},
   "cell_type": "markdown",
   "id": "58056784",
   "metadata": {},
   "source": [
    "선택할 수 있는 성별이 어떤 것들이 있는지 확인하시오."
   ]
  },
  {
   "cell_type": "code",
   "execution_count": null,
   "id": "281dc8f6",
   "metadata": {},
   "outputs": [],
   "source": [
    "gender = sh1['C2:C26'].value\n",
    "gender = set(gender)\n",
    "gender"
   ]
  },
  {
   "attachments": {},
   "cell_type": "markdown",
   "id": "8cae9123",
   "metadata": {},
   "source": [
    "찾고자 하는 소속과 성별을 선택하여 각각 B29, C29에 넣으시오."
   ]
  },
  {
   "cell_type": "code",
   "execution_count": null,
   "id": "3909f80c",
   "metadata": {},
   "outputs": [],
   "source": [
    "sh1['B29'].value = '기획실'\n",
    "sh1['C29'].value = '여'"
   ]
  },
  {
   "attachments": {},
   "cell_type": "markdown",
   "id": "52f3973d",
   "metadata": {},
   "source": [
    "사원명부 시트의 열을 제외한 모든 데이터를 확인하시오."
   ]
  },
  {
   "cell_type": "code",
   "execution_count": null,
   "id": "2bb64792",
   "metadata": {},
   "outputs": [],
   "source": [
    "data = sh1['A2:I26'].value\n",
    "data"
   ]
  },
  {
   "attachments": {},
   "cell_type": "markdown",
   "id": "1d370e12",
   "metadata": {},
   "source": [
    "선택한 소속과 성별을 조건으로 하여, 조건에 맞는 인원의 명수를 계산하시오."
   ]
  },
  {
   "cell_type": "code",
   "execution_count": null,
   "id": "b4fc2285",
   "metadata": {},
   "outputs": [],
   "source": [
    "count = 0\n",
    "for i in data:\n",
    "    if i[2] == sh1['C29'].value and i[5] == sh1['B29'].value:\n",
    "        count += 1\n",
    "\n",
    "print(\"기획실 소속의 여성:\", count, \"명\")"
   ]
  },
  {
   "attachments": {},
   "cell_type": "markdown",
   "id": "6a58b2a3",
   "metadata": {},
   "source": [
    "기획실 소속의 여성을 D29셀에 넣으시오."
   ]
  },
  {
   "cell_type": "code",
   "execution_count": null,
   "id": "259bef53",
   "metadata": {},
   "outputs": [],
   "source": [
    "sh1['D29'].value = count"
   ]
  },
  {
   "attachments": {},
   "cell_type": "markdown",
   "id": "f19567f6",
   "metadata": {},
   "source": [
    "# 예제 2 :\n",
    "1. 예제1에서 선택한 소속과 성별 중 나이가 가장 많은 사람을 사원명부 시트의 E29에 쓰세요.\n",
    "2. 모든 부서 사람들의 근무 년수를 계산하여 사원명부 시트의 I열에 쓰세요. (기준은 현재 날짜)\n",
    "3. E29에서 선정된 사람의 정보를 재직증명서 시트에 작성하시오."
   ]
  },
  {
   "attachments": {},
   "cell_type": "markdown",
   "id": "703f64f3",
   "metadata": {},
   "source": [
    "## 2-1. 예제1에서 조건(소속부서, 성별) 나이가 가장 많은 사람을 example.xlsx의 E29에 쓰세요."
   ]
  },
  {
   "attachments": {},
   "cell_type": "markdown",
   "id": "99b29ad3",
   "metadata": {},
   "source": [
    "예제1에서 사용한 data를 이용하시오."
   ]
  },
  {
   "cell_type": "code",
   "execution_count": null,
   "id": "47dd6877",
   "metadata": {
    "scrolled": true
   },
   "outputs": [],
   "source": [
    "people = []\n",
    "for row in data:\n",
    "    if row[2] == sh1['C29'].value and row[5] == sh1['B29'].value:\n",
    "       people.append(row)\n",
    "\n",
    "people"
   ]
  },
  {
   "attachments": {},
   "cell_type": "markdown",
   "id": "8d6dabee",
   "metadata": {},
   "source": [
    "people 리스트에서 저장된 사람들 중 나이가 가장 많은 사람의 정보를 가져오세요."
   ]
  },
  {
   "cell_type": "code",
   "execution_count": null,
   "id": "b700ae0b",
   "metadata": {},
   "outputs": [],
   "source": [
    "limit = 9999999999999.0\n",
    "oldest = []\n",
    "for row in people:\n",
    "    if row[3] < limit:\n",
    "        limit = row[3]\n",
    "        oldest = row\n",
    "oldest[1]"
   ]
  },
  {
   "attachments": {},
   "cell_type": "markdown",
   "id": "67fbdd47",
   "metadata": {},
   "source": [
    "선택한 부서에서 나이가 가장 많은 사람의 이름을 E29에 입력하시오."
   ]
  },
  {
   "cell_type": "code",
   "execution_count": null,
   "id": "8e026864",
   "metadata": {},
   "outputs": [],
   "source": [
    "# 나이가 가장 많은 사람의 이름 해당 xlsx 파일 칸에 쓰기\n",
    "sh1['E29'].value = oldest[1]"
   ]
  },
  {
   "attachments": {},
   "cell_type": "markdown",
   "id": "ee73d22b",
   "metadata": {},
   "source": [
    "## 2-2. 모든 부서 사람들의 근무 년수를 계산하세요. (단, 현재 연도를 기준)"
   ]
  },
  {
   "attachments": {},
   "cell_type": "markdown",
   "id": "2a867744",
   "metadata": {},
   "source": [
    "날짜를 사용하기 위한 라이브러리 선언\n",
    "\n",
    "    - datetime"
   ]
  },
  {
   "cell_type": "code",
   "execution_count": null,
   "id": "fada3b28",
   "metadata": {},
   "outputs": [],
   "source": [
    "from datetime import datetime"
   ]
  },
  {
   "attachments": {},
   "cell_type": "markdown",
   "id": "b61e2b10",
   "metadata": {},
   "source": [
    "현재 연도를 가져오시오."
   ]
  },
  {
   "cell_type": "code",
   "execution_count": null,
   "id": "1612d794",
   "metadata": {},
   "outputs": [],
   "source": [
    "now = datetime.today().year"
   ]
  },
  {
   "attachments": {},
   "cell_type": "markdown",
   "id": "c00c0078",
   "metadata": {},
   "source": [
    "모든 부서의 사람들의 총 근무 년 수를 확인하고, 해당하는 셀에 작성하는 코드를 쓰시오."
   ]
  },
  {
   "cell_type": "code",
   "execution_count": null,
   "id": "0312c7b3",
   "metadata": {},
   "outputs": [],
   "source": [
    "count = 2\n",
    "for row in data:\n",
    "    row[8] = now - row[7].year\n",
    "    sh1.range(f'I{count}').value = row[8]\n",
    "    count += 1"
   ]
  },
  {
   "attachments": {},
   "cell_type": "markdown",
   "id": "9c801558",
   "metadata": {},
   "source": [
    "## 2-3. 예제 2-2에서 선정된 사람의 정보를 이용하여 재직증명서 시트를 작성하시오."
   ]
  },
  {
   "cell_type": "code",
   "execution_count": null,
   "id": "d2919dc7",
   "metadata": {},
   "outputs": [],
   "source": [
    "selected = []\n",
    "for row in people:\n",
    "    if sh1.range('E29').value == row[1]:\n",
    "        selected = row"
   ]
  },
  {
   "cell_type": "code",
   "execution_count": null,
   "id": "0376b4c9",
   "metadata": {},
   "outputs": [],
   "source": [
    "sh2['C2'].value = selected[0]\n",
    "sh2['C6'].value = selected[1]\n",
    "sh2['E6'].value = selected[3]\n",
    "sh2['C7'].value = selected[4]\n",
    "sh2['C8'].value = selected[5]\n",
    "sh2['E8'].value = selected[6]\n",
    "sh2['C9'].value = str(selected[8]) + '년'\n",
    "sh2['E9'].value = selected[7]"
   ]
  },
  {
   "attachments": {},
   "cell_type": "markdown",
   "id": "7aaa202c",
   "metadata": {},
   "source": [
    "생성된 파일 result.xlsx로 저장"
   ]
  },
  {
   "cell_type": "code",
   "execution_count": null,
   "id": "dae68c2b",
   "metadata": {},
   "outputs": [],
   "source": [
    "wb.save('result.xlsx')"
   ]
  }
 ],
 "metadata": {
  "kernelspec": {
   "display_name": "Python 3 (ipykernel)",
   "language": "python",
   "name": "python3"
  },
  "language_info": {
   "codemirror_mode": {
    "name": "ipython",
    "version": 3
   },
   "file_extension": ".py",
   "mimetype": "text/x-python",
   "name": "python",
   "nbconvert_exporter": "python",
   "pygments_lexer": "ipython3",
   "version": "3.10.9"
  }
 },
 "nbformat": 4,
 "nbformat_minor": 5
}
